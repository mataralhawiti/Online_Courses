{
 "cells": [
  {
   "cell_type": "code",
   "execution_count": 1,
   "metadata": {
    "collapsed": false
   },
   "outputs": [
    {
     "data": {
      "text/plain": [
       "\"\\nProject Overview\\nIn this project, you will analyze a dataset and then communicate your findings about it. You will use the Python libraries NumPy, Pandas, and Matplotlib to make your analysis easier.\\n\\nWhat do I need to install?\\nYou will need an installation of Python, plus the following libraries:\\n\\n* pandas\\n* numpy\\n* matplotlib\\n* csv\\n\\nWhy this Project?\\nThis project will introduce you to the data analysis process that you will be using throughout the rest of \\nthe Nanodegree program. In this project, you will go through the entire process so that you know how \\nall the pieces fit together. Later Nanodegree projects will focus on individual pieces \\nof the data analysis process. In this project, you will also gain experience using the Python libraries NumPy, Pandas, and Matplotlib, which make writing data analysis code in Python a lot easier!\\n\\n\\nWhat will I learn?\\nAfter completing the project, you will:\\n\\n    Know all the steps involved in a typical data analysis process\\n    Be comfortable posing questions that can be answered with a given dataset and then answering those questions\\n    Know how to investigate problems in a dataset and wrangle the data into a format you can use\\n    Have practice communicating the results of your analysis\\n    Be able to use vectorized operations in NumPy and Pandas to speed up your data analysis code\\n    Be familiar with Pandas' Series and DataFrame objects, which let you access your data more conveniently\\n    Know how to use Matplotlib to produce plots showing your findings\\n    Why is this Important to my Career?\\n    This project will show off a variety of data analysis skills, \\n    as well as showing potential employers that you know how to go through the entire data analysis process.\\n\""
      ]
     },
     "execution_count": 1,
     "metadata": {},
     "output_type": "execute_result"
    }
   ],
   "source": [
    "'''\n",
    "Project Overview\n",
    "In this project, you will analyze a dataset and then communicate your findings about it. You will use the Python libraries NumPy, Pandas, and Matplotlib to make your analysis easier.\n",
    "\n",
    "What do I need to install?\n",
    "You will need an installation of Python, plus the following libraries:\n",
    "\n",
    "* pandas\n",
    "* numpy\n",
    "* matplotlib\n",
    "* csv\n",
    "\n",
    "Why this Project?\n",
    "This project will introduce you to the data analysis process that you will be using throughout the rest of \n",
    "the Nanodegree program. In this project, you will go through the entire process so that you know how \n",
    "all the pieces fit together. Later Nanodegree projects will focus on individual pieces \n",
    "of the data analysis process. In this project, you will also gain experience using the Python libraries NumPy, Pandas, and Matplotlib, which make writing data analysis code in Python a lot easier!\n",
    "\n",
    "\n",
    "What will I learn?\n",
    "After completing the project, you will:\n",
    "\n",
    "    Know all the steps involved in a typical data analysis process\n",
    "    Be comfortable posing questions that can be answered with a given dataset and then answering those questions\n",
    "    Know how to investigate problems in a dataset and wrangle the data into a format you can use\n",
    "    Have practice communicating the results of your analysis\n",
    "    Be able to use vectorized operations in NumPy and Pandas to speed up your data analysis code\n",
    "    Be familiar with Pandas' Series and DataFrame objects, which let you access your data more conveniently\n",
    "    Know how to use Matplotlib to produce plots showing your findings\n",
    "    Why is this Important to my Career?\n",
    "    This project will show off a variety of data analysis skills, \n",
    "    as well as showing potential employers that you know how to go through the entire data analysis process.\n",
    "'''"
   ]
  },
  {
   "cell_type": "code",
   "execution_count": null,
   "metadata": {
    "collapsed": true
   },
   "outputs": [],
   "source": []
  },
  {
   "cell_type": "code",
   "execution_count": null,
   "metadata": {
    "collapsed": true
   },
   "outputs": [],
   "source": [
    "'''\n",
    "Introduction\n",
    "For the final project, you will conduct your own data analysis and create a file to share that documents your findings. You should start by taking a look at your dataset and brainstorming what questions you could answer using it. Then you should use Pandas and NumPy to answer the questions you are most interested in, and create a report sharing the answers. You will not be required to use statistics or machine learning to complete this project, but you should make it clear in your communications that your findings are tentative. This project is open-ended in that we are not looking for one right answer.\n",
    "\n",
    "Step One - Choose Your Data Set\n",
    "Choose one of the following datasets to analyze for your project:\n",
    "\n",
    "    Titanic Data - Contains demographics and passenger information from 891 of the 2224 passengers \n",
    "                    and crew on board the Titanic. You can view a description of this dataset on the Kaggle website, \n",
    "                    where the data was obtained.\n",
    "\n",
    "    Baseball Data - A data set containing complete batting and pitching statistics from 1871 to 2014, \n",
    "                    plus fielding statistics, standings, team stats, managerial records, post-season data, \n",
    "                    and more. This dataset contains many files, but you can choose to analyze only the one(s) \n",
    "                    you are most interested in.\n",
    "\n",
    "Step Two - Get Organized\n",
    "    Eventually you’ll want to submit your project (and share it with friends, family, and employers). \n",
    "    Get organized before you begin. We recommend creating a single folder that will eventually contain:\n",
    "\n",
    "        - The report communicating your findings\n",
    "        - Any Python code you wrote as part of your analysis\n",
    "        - The data set you used (which you will not need to submit)\n",
    "        \n",
    "    You may wish to use Jupyter notebook, in which case you can submit both the code you wrote and the \n",
    "    report of your findings in the same document. Otherwise, you will need to submit your \n",
    "    report and code separately.\n",
    "\n",
    "Step Three - Analyze Your Data\n",
    "    Brainstorm some questions you could answer using the data set you chose, \n",
    "    then start answering those questions. Here are some ideas to get you started:\n",
    "\n",
    "    Titanic Data\n",
    "        What factors made people more likely to survive?\n",
    "        \n",
    "    Baseball Data\n",
    "        What is the relationship between different performance metrics? Do any have \n",
    "            a strong negative or positive relationship?\n",
    "        What are the characteristics of baseball players with the highest salaries?\n",
    "        \n",
    "Try and suggest questions that promote looking at relationships between multiple variables. \n",
    "You should aim to analyze at least one dependent variable and three independent variables in your investigation. \n",
    "Make sure you use NumPy and Pandas where they are appropriate!\n",
    "\n",
    "\n",
    "Step Four - Share Your Findings\n",
    "    Once you have finished analyzing the data, \n",
    "    create a report that shares the findings you found most interesting. \n",
    "    You might wish to use Jupyter notebook to share your findings alongside \n",
    "    the code you used to perform the analysis, but you can also use another tool if you wish. \n",
    "    If you do use a Jupyter notebook, \n",
    "    make sure that your report text is contained in Markdown cells to clearly distinguish your comments \n",
    "    and findings from your code work.\n",
    "\n",
    "Step Five - Review\n",
    "    Use the Project Rubric to review your project. \n",
    "    If you are happy with your submission, then you're ready to submit your project. \n",
    "    If you see room for improvement, keep working to improve your project.\n",
    "'''"
   ]
  },
  {
   "cell_type": "code",
   "execution_count": 2,
   "metadata": {
    "collapsed": false
   },
   "outputs": [
    {
     "data": {
      "text/plain": [
       "'\\nWhat to include in your submission\\n    A PDF or HTML file containing your analysis. This file should include:\\n    A note specifying which dataset you analyzed\\n    A statement of the question(s) you posed\\n    A description of what you did to investigate those questions\\n    Documentation of any data wrangling you did\\n    Summary statistics and plots communicating your final results\\n    Code you used to perform your analysis. If you used an Jupyter notebook, you can submit your .ipynb. \\n        Otherwise, you should submit the code separately in .py file(s).\\n    A list of Web sites, books, forums, blog posts, github repositories, etc. \\n        that you referred to or used in creating your submission \\n        (add N/A if you did not use any such resources).\\n'"
      ]
     },
     "execution_count": 2,
     "metadata": {},
     "output_type": "execute_result"
    }
   ],
   "source": [
    "'''\n",
    "What to include in your submission\n",
    "    A PDF or HTML file containing your analysis. This file should include:\n",
    "    A note specifying which dataset you analyzed\n",
    "    A statement of the question(s) you posed\n",
    "    A description of what you did to investigate those questions\n",
    "    Documentation of any data wrangling you did\n",
    "    Summary statistics and plots communicating your final results\n",
    "    Code you used to perform your analysis. If you used an Jupyter notebook, you can submit your .ipynb. \n",
    "        Otherwise, you should submit the code separately in .py file(s).\n",
    "    A list of Web sites, books, forums, blog posts, github repositories, etc. \n",
    "        that you referred to or used in creating your submission \n",
    "        (add N/A if you did not use any such resources).\n",
    "'''"
   ]
  },
  {
   "cell_type": "code",
   "execution_count": 3,
   "metadata": {
    "collapsed": false
   },
   "outputs": [
    {
     "data": {
      "text/plain": [
       "'\\nData Dictionary\\n\\nVariable\\tDefinition\\t   Key\\nsurvival\\tSurvival\\t   0 = No, 1 = Yes\\npclass\\tTicket class\\t   1 = 1st, 2 = 2nd, 3 = 3rd\\nsex\\tSex\\t\\nAge\\tAge in years\\t\\nsibsp\\t# of siblings / spouses aboard the Titanic\\t\\nparch\\t# of parents / children aboard the Titanic\\t\\nticket\\tTicket number\\t\\nfare\\tPassenger fare\\t\\ncabin\\tCabin number\\t\\nembarked\\tPort of Embarkation\\tC = Cherbourg, Q = Queenstown, S = Southampton\\nVariable Notes\\n\\npclass: A proxy for socio-economic status (SES)\\n1st = Upper\\n2nd = Middle\\n3rd = Lower\\n\\nage: Age is fractional if less than 1. If the age is estimated, is it in the form of xx.5\\n\\nsibsp: The dataset defines family relations in this way...\\nSibling = brother, sister, stepbrother, stepsister\\nSpouse = husband, wife (mistresses and fianc\\xc3\\xa9s were ignored)\\n\\nparch: The dataset defines family relations in this way...\\nParent = mother, father\\nChild = daughter, son, stepdaughter, stepson\\nSome children travelled only with a nanny, therefore parch=0 for them.\\n\\n'"
      ]
     },
     "execution_count": 3,
     "metadata": {},
     "output_type": "execute_result"
    }
   ],
   "source": [
    "'''\n",
    "Data Dictionary\n",
    "\n",
    "Variable\tDefinition\t   Key\n",
    "survival\tSurvival\t   0 = No, 1 = Yes\n",
    "pclass\tTicket class\t   1 = 1st, 2 = 2nd, 3 = 3rd\n",
    "sex\tSex\t\n",
    "Age\tAge in years\t\n",
    "sibsp\t# of siblings / spouses aboard the Titanic\t\n",
    "parch\t# of parents / children aboard the Titanic\t\n",
    "ticket\tTicket number\t\n",
    "fare\tPassenger fare\t\n",
    "cabin\tCabin number\t\n",
    "embarked\tPort of Embarkation\tC = Cherbourg, Q = Queenstown, S = Southampton\n",
    "Variable Notes\n",
    "\n",
    "pclass: A proxy for socio-economic status (SES)\n",
    "1st = Upper\n",
    "2nd = Middle\n",
    "3rd = Lower\n",
    "\n",
    "age: Age is fractional if less than 1. If the age is estimated, is it in the form of xx.5\n",
    "\n",
    "sibsp: The dataset defines family relations in this way...\n",
    "Sibling = brother, sister, stepbrother, stepsister\n",
    "Spouse = husband, wife (mistresses and fiancés were ignored)\n",
    "\n",
    "parch: The dataset defines family relations in this way...\n",
    "Parent = mother, father\n",
    "Child = daughter, son, stepdaughter, stepson\n",
    "Some children travelled only with a nanny, therefore parch=0 for them.\n",
    "\n",
    "'''"
   ]
  },
  {
   "cell_type": "code",
   "execution_count": 12,
   "metadata": {
    "collapsed": true
   },
   "outputs": [],
   "source": [
    "'''\n",
    "#   What factors made people more likely to survive?\n",
    "        Pclass ?\n",
    "        sex ?\n",
    "# \n",
    "\n",
    "'''\n"
   ]
  },
  {
   "cell_type": "code",
   "execution_count": 8,
   "metadata": {
    "collapsed": false
   },
   "outputs": [],
   "source": [
    "import pandas as pd\n",
    "path = '/home/matar/GitHub/Online_Courses/Udacity-ND/P02_Investigate_A_Dataset/Project/'\n",
    "titanic_pd = pd.read_csv(path + 'titanic-data.csv')"
   ]
  },
  {
   "cell_type": "code",
   "execution_count": 9,
   "metadata": {
    "collapsed": false
   },
   "outputs": [
    {
     "data": {
      "text/plain": [
       "10692"
      ]
     },
     "execution_count": 9,
     "metadata": {},
     "output_type": "execute_result"
    }
   ],
   "source": [
    "# get df size\n",
    "titanic_pd.size"
   ]
  },
  {
   "cell_type": "code",
   "execution_count": 14,
   "metadata": {
    "collapsed": false
   },
   "outputs": [
    {
     "data": {
      "text/plain": [
       "PassengerId    891\n",
       "Survived       891\n",
       "Pclass         891\n",
       "Name           891\n",
       "Sex            891\n",
       "Age            714\n",
       "SibSp          891\n",
       "Parch          891\n",
       "Ticket         891\n",
       "Fare           891\n",
       "Cabin          204\n",
       "Embarked       889\n",
       "dtype: int64"
      ]
     },
     "execution_count": 14,
     "metadata": {},
     "output_type": "execute_result"
    }
   ],
   "source": [
    "titanic_pd.count()"
   ]
  },
  {
   "cell_type": "code",
   "execution_count": 19,
   "metadata": {
    "collapsed": false
   },
   "outputs": [
    {
     "data": {
      "text/html": [
       "<div>\n",
       "<table border=\"1\" class=\"dataframe\">\n",
       "  <thead>\n",
       "    <tr style=\"text-align: right;\">\n",
       "      <th></th>\n",
       "      <th>PassengerId</th>\n",
       "      <th>Survived</th>\n",
       "      <th>Pclass</th>\n",
       "      <th>Name</th>\n",
       "      <th>Sex</th>\n",
       "      <th>Age</th>\n",
       "      <th>SibSp</th>\n",
       "      <th>Parch</th>\n",
       "      <th>Ticket</th>\n",
       "      <th>Fare</th>\n",
       "      <th>Cabin</th>\n",
       "      <th>Embarked</th>\n",
       "    </tr>\n",
       "  </thead>\n",
       "  <tbody>\n",
       "    <tr>\n",
       "      <th>0</th>\n",
       "      <td>1</td>\n",
       "      <td>0</td>\n",
       "      <td>3</td>\n",
       "      <td>Braund, Mr. Owen Harris</td>\n",
       "      <td>male</td>\n",
       "      <td>22.0</td>\n",
       "      <td>1</td>\n",
       "      <td>0</td>\n",
       "      <td>A/5 21171</td>\n",
       "      <td>7.2500</td>\n",
       "      <td>NaN</td>\n",
       "      <td>S</td>\n",
       "    </tr>\n",
       "    <tr>\n",
       "      <th>1</th>\n",
       "      <td>2</td>\n",
       "      <td>1</td>\n",
       "      <td>1</td>\n",
       "      <td>Cumings, Mrs. John Bradley (Florence Briggs Th...</td>\n",
       "      <td>female</td>\n",
       "      <td>38.0</td>\n",
       "      <td>1</td>\n",
       "      <td>0</td>\n",
       "      <td>PC 17599</td>\n",
       "      <td>71.2833</td>\n",
       "      <td>C85</td>\n",
       "      <td>C</td>\n",
       "    </tr>\n",
       "    <tr>\n",
       "      <th>2</th>\n",
       "      <td>3</td>\n",
       "      <td>1</td>\n",
       "      <td>3</td>\n",
       "      <td>Heikkinen, Miss. Laina</td>\n",
       "      <td>female</td>\n",
       "      <td>26.0</td>\n",
       "      <td>0</td>\n",
       "      <td>0</td>\n",
       "      <td>STON/O2. 3101282</td>\n",
       "      <td>7.9250</td>\n",
       "      <td>NaN</td>\n",
       "      <td>S</td>\n",
       "    </tr>\n",
       "    <tr>\n",
       "      <th>3</th>\n",
       "      <td>4</td>\n",
       "      <td>1</td>\n",
       "      <td>1</td>\n",
       "      <td>Futrelle, Mrs. Jacques Heath (Lily May Peel)</td>\n",
       "      <td>female</td>\n",
       "      <td>35.0</td>\n",
       "      <td>1</td>\n",
       "      <td>0</td>\n",
       "      <td>113803</td>\n",
       "      <td>53.1000</td>\n",
       "      <td>C123</td>\n",
       "      <td>S</td>\n",
       "    </tr>\n",
       "    <tr>\n",
       "      <th>4</th>\n",
       "      <td>5</td>\n",
       "      <td>0</td>\n",
       "      <td>3</td>\n",
       "      <td>Allen, Mr. William Henry</td>\n",
       "      <td>male</td>\n",
       "      <td>35.0</td>\n",
       "      <td>0</td>\n",
       "      <td>0</td>\n",
       "      <td>373450</td>\n",
       "      <td>8.0500</td>\n",
       "      <td>NaN</td>\n",
       "      <td>S</td>\n",
       "    </tr>\n",
       "    <tr>\n",
       "      <th>5</th>\n",
       "      <td>6</td>\n",
       "      <td>0</td>\n",
       "      <td>3</td>\n",
       "      <td>Moran, Mr. James</td>\n",
       "      <td>male</td>\n",
       "      <td>NaN</td>\n",
       "      <td>0</td>\n",
       "      <td>0</td>\n",
       "      <td>330877</td>\n",
       "      <td>8.4583</td>\n",
       "      <td>NaN</td>\n",
       "      <td>Q</td>\n",
       "    </tr>\n",
       "    <tr>\n",
       "      <th>6</th>\n",
       "      <td>7</td>\n",
       "      <td>0</td>\n",
       "      <td>1</td>\n",
       "      <td>McCarthy, Mr. Timothy J</td>\n",
       "      <td>male</td>\n",
       "      <td>54.0</td>\n",
       "      <td>0</td>\n",
       "      <td>0</td>\n",
       "      <td>17463</td>\n",
       "      <td>51.8625</td>\n",
       "      <td>E46</td>\n",
       "      <td>S</td>\n",
       "    </tr>\n",
       "    <tr>\n",
       "      <th>7</th>\n",
       "      <td>8</td>\n",
       "      <td>0</td>\n",
       "      <td>3</td>\n",
       "      <td>Palsson, Master. Gosta Leonard</td>\n",
       "      <td>male</td>\n",
       "      <td>2.0</td>\n",
       "      <td>3</td>\n",
       "      <td>1</td>\n",
       "      <td>349909</td>\n",
       "      <td>21.0750</td>\n",
       "      <td>NaN</td>\n",
       "      <td>S</td>\n",
       "    </tr>\n",
       "    <tr>\n",
       "      <th>8</th>\n",
       "      <td>9</td>\n",
       "      <td>1</td>\n",
       "      <td>3</td>\n",
       "      <td>Johnson, Mrs. Oscar W (Elisabeth Vilhelmina Berg)</td>\n",
       "      <td>female</td>\n",
       "      <td>27.0</td>\n",
       "      <td>0</td>\n",
       "      <td>2</td>\n",
       "      <td>347742</td>\n",
       "      <td>11.1333</td>\n",
       "      <td>NaN</td>\n",
       "      <td>S</td>\n",
       "    </tr>\n",
       "    <tr>\n",
       "      <th>9</th>\n",
       "      <td>10</td>\n",
       "      <td>1</td>\n",
       "      <td>2</td>\n",
       "      <td>Nasser, Mrs. Nicholas (Adele Achem)</td>\n",
       "      <td>female</td>\n",
       "      <td>14.0</td>\n",
       "      <td>1</td>\n",
       "      <td>0</td>\n",
       "      <td>237736</td>\n",
       "      <td>30.0708</td>\n",
       "      <td>NaN</td>\n",
       "      <td>C</td>\n",
       "    </tr>\n",
       "  </tbody>\n",
       "</table>\n",
       "</div>"
      ],
      "text/plain": [
       "   PassengerId  Survived  Pclass  \\\n",
       "0            1         0       3   \n",
       "1            2         1       1   \n",
       "2            3         1       3   \n",
       "3            4         1       1   \n",
       "4            5         0       3   \n",
       "5            6         0       3   \n",
       "6            7         0       1   \n",
       "7            8         0       3   \n",
       "8            9         1       3   \n",
       "9           10         1       2   \n",
       "\n",
       "                                                Name     Sex   Age  SibSp  \\\n",
       "0                            Braund, Mr. Owen Harris    male  22.0      1   \n",
       "1  Cumings, Mrs. John Bradley (Florence Briggs Th...  female  38.0      1   \n",
       "2                             Heikkinen, Miss. Laina  female  26.0      0   \n",
       "3       Futrelle, Mrs. Jacques Heath (Lily May Peel)  female  35.0      1   \n",
       "4                           Allen, Mr. William Henry    male  35.0      0   \n",
       "5                                   Moran, Mr. James    male   NaN      0   \n",
       "6                            McCarthy, Mr. Timothy J    male  54.0      0   \n",
       "7                     Palsson, Master. Gosta Leonard    male   2.0      3   \n",
       "8  Johnson, Mrs. Oscar W (Elisabeth Vilhelmina Berg)  female  27.0      0   \n",
       "9                Nasser, Mrs. Nicholas (Adele Achem)  female  14.0      1   \n",
       "\n",
       "   Parch            Ticket     Fare Cabin Embarked  \n",
       "0      0         A/5 21171   7.2500   NaN        S  \n",
       "1      0          PC 17599  71.2833   C85        C  \n",
       "2      0  STON/O2. 3101282   7.9250   NaN        S  \n",
       "3      0            113803  53.1000  C123        S  \n",
       "4      0            373450   8.0500   NaN        S  \n",
       "5      0            330877   8.4583   NaN        Q  \n",
       "6      0             17463  51.8625   E46        S  \n",
       "7      1            349909  21.0750   NaN        S  \n",
       "8      2            347742  11.1333   NaN        S  \n",
       "9      0            237736  30.0708   NaN        C  "
      ]
     },
     "execution_count": 19,
     "metadata": {},
     "output_type": "execute_result"
    }
   ],
   "source": [
    "\n",
    "# see sample data\n",
    "titanic_pd.head(10)"
   ]
  },
  {
   "cell_type": "code",
   "execution_count": 70,
   "metadata": {
    "collapsed": false
   },
   "outputs": [
    {
     "data": {
      "text/plain": [
       "Survived\n",
       "0    549\n",
       "1    342\n",
       "Name: PassengerId, dtype: int64"
      ]
     },
     "execution_count": 70,
     "metadata": {},
     "output_type": "execute_result"
    }
   ],
   "source": [
    "# how many Survived vs not-Survived\n",
    "Survived = titanic_pd.groupby('Survived')\n",
    "Survived.count()['PassengerId']"
   ]
  },
  {
   "cell_type": "code",
   "execution_count": 74,
   "metadata": {
    "collapsed": false
   },
   "outputs": [
    {
     "data": {
      "text/plain": [
       "Survived  Sex   \n",
       "0         female     81\n",
       "          male      468\n",
       "1         female    233\n",
       "          male      109\n",
       "Name: PassengerId, dtype: int64"
      ]
     },
     "execution_count": 74,
     "metadata": {},
     "output_type": "execute_result"
    }
   ],
   "source": [
    "# how many Survived vs not-Survived per sex\n",
    "Survived = titanic_pd.groupby(['Survived','Sex'])\n",
    "Survived.count()['PassengerId']"
   ]
  },
  {
   "cell_type": "code",
   "execution_count": 79,
   "metadata": {
    "collapsed": false
   },
   "outputs": [
    {
     "data": {
      "text/plain": [
       "Survived  Pclass  Sex   \n",
       "0         1       female      3\n",
       "                  male       77\n",
       "          2       female      6\n",
       "                  male       91\n",
       "          3       female     72\n",
       "                  male      300\n",
       "1         1       female     91\n",
       "                  male       45\n",
       "          2       female     70\n",
       "                  male       17\n",
       "          3       female     72\n",
       "                  male       47\n",
       "Name: PassengerId, dtype: int64"
      ]
     },
     "execution_count": 79,
     "metadata": {},
     "output_type": "execute_result"
    }
   ],
   "source": [
    "# how many Survived vs not-Survived per Pclass\n",
    "Survived = titanic_pd.groupby(['Survived','Pclass', 'Sex'])\n",
    "Survived['PassengerId'].count()"
   ]
  },
  {
   "cell_type": "code",
   "execution_count": 86,
   "metadata": {
    "collapsed": false
   },
   "outputs": [
    {
     "data": {
      "text/plain": [
       "38.38383838383838"
      ]
     },
     "execution_count": 86,
     "metadata": {},
     "output_type": "execute_result"
    }
   ],
   "source": [
    "# chance of survie overall\n",
    "titanic_pd['Survived'].mean() * 100\n"
   ]
  },
  {
   "cell_type": "code",
   "execution_count": 87,
   "metadata": {
    "collapsed": false
   },
   "outputs": [
    {
     "data": {
      "text/plain": [
       "Pclass\n",
       "1    0.629630\n",
       "2    0.472826\n",
       "3    0.242363\n",
       "Name: Survived, dtype: float64"
      ]
     },
     "execution_count": 87,
     "metadata": {},
     "output_type": "execute_result"
    }
   ],
   "source": [
    "Survived = titanic_pd.groupby('Pclass')\n",
    "Survived.mean()['Survived']"
   ]
  },
  {
   "cell_type": "code",
   "execution_count": 94,
   "metadata": {
    "collapsed": false
   },
   "outputs": [
    {
     "data": {
      "text/plain": [
       "29.69911764705882"
      ]
     },
     "execution_count": 94,
     "metadata": {},
     "output_type": "execute_result"
    }
   ],
   "source": [
    "# age mean\n",
    "titanic_pd['Age'].mean()\n"
   ]
  },
  {
   "cell_type": "code",
   "execution_count": 93,
   "metadata": {
    "collapsed": false
   },
   "outputs": [
    {
     "data": {
      "text/plain": [
       "14.526497332334044"
      ]
     },
     "execution_count": 93,
     "metadata": {},
     "output_type": "execute_result"
    }
   ],
   "source": [
    "# age mean\n",
    "titanic_pd['Age'].std()\n"
   ]
  },
  {
   "cell_type": "code",
   "execution_count": null,
   "metadata": {
    "collapsed": true
   },
   "outputs": [],
   "source": []
  }
 ],
 "metadata": {
  "kernelspec": {
   "display_name": "Python 2",
   "language": "python",
   "name": "python2"
  },
  "language_info": {
   "codemirror_mode": {
    "name": "ipython",
    "version": 2
   },
   "file_extension": ".py",
   "mimetype": "text/x-python",
   "name": "python",
   "nbconvert_exporter": "python",
   "pygments_lexer": "ipython2",
   "version": "2.7.13"
  }
 },
 "nbformat": 4,
 "nbformat_minor": 2
}
