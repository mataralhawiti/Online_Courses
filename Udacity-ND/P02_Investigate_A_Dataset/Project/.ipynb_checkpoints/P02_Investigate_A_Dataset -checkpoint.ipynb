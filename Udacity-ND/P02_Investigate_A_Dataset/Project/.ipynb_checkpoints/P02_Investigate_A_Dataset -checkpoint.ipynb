{
 "cells": [
  {
   "cell_type": "code",
   "execution_count": null,
   "metadata": {
    "collapsed": true
   },
   "outputs": [],
   "source": [
    "'''\n",
    "    then start answering those questions. Here are some ideas to get you started:\n",
    "\n",
    "    Titanic Data\n",
    "        What factors made people more likely to survive?\n",
    "\n",
    "        \n",
    "Try and suggest questions that promote looking at relationships between multiple variables. \n",
    "You should aim to analyze at least one dependent variable and three independent variables in your investigation. \n",
    "Make sure you use NumPy and Pandas where they are appropriate!\n",
    "\n",
    "\n",
    "Step Four - Share Your Findings\n",
    "    Once you have finished analyzing the data, \n",
    "    create a report that shares the findings you found most interesting. \n",
    "    You might wish to use Jupyter notebook to share your findings alongside \n",
    "    the code you used to perform the analysis, but you can also use another tool if you wish. \n",
    "    If you do use a Jupyter notebook, \n",
    "    make sure that your report text is contained in Markdown cells to clearly distinguish your comments \n",
    "    and findings from your code work.\n",
    "\n",
    "Step Five - Review\n",
    "    Use the Project Rubric to review your project. \n",
    "    If you are happy with your submission, then you're ready to submit your project. \n",
    "    If you see room for improvement, keep working to improve your project.\n",
    "    \n",
    "    What to include in your submission\n",
    "    A PDF or HTML file containing your analysis. This file should include:\n",
    "    A note specifying which dataset you analyzed\n",
    "    A statement of the question(s) you posed\n",
    "    A description of what you did to investigate those questions\n",
    "    Documentation of any data wrangling you did\n",
    "    Summary statistics and plots communicating your final results\n",
    "    Code you used to perform your analysis. If you used an Jupyter notebook, you can submit your .ipynb. \n",
    "        Otherwise, you should submit the code separately in .py file(s).\n",
    "    A list of Web sites, books, forums, blog posts, github repositories, etc. \n",
    "        that you referred to or used in creating your submission \n",
    "        (add N/A if you did not use any such resources).\n",
    "        \n",
    "        \n",
    "        #   What factors made people more likely to survive?\n",
    "        Pclass ?\n",
    "        sex ?\n",
    "# \n",
    "        \n",
    "        \n",
    "'''"
   ]
  },
  {
   "cell_type": "code",
   "execution_count": null,
   "metadata": {
    "collapsed": true
   },
   "outputs": [],
   "source": [
    "# -------------------------------- Overview of our dataset -------------------------------- #"
   ]
  },
  {
   "cell_type": "code",
   "execution_count": 51,
   "metadata": {
    "collapsed": false
   },
   "outputs": [],
   "source": [
    "# get the data into pandas df\n",
    "import matplotlib.pyplot as plt\n",
    "import numpy as np\n",
    "import pandas as pd\n",
    "import seaborn as sns\n",
    "\n",
    "path = '/home/matar/GitHub/Online_Courses/Udacity-ND/P02_Investigate_A_Dataset/Project/'\n",
    "titanic_pd = pd.read_csv(path + 'titanic-data.csv')"
   ]
  },
  {
   "cell_type": "code",
   "execution_count": 52,
   "metadata": {
    "collapsed": false
   },
   "outputs": [
    {
     "name": "stdout",
     "output_type": "stream",
     "text": [
      "** Our dataset has : 10692 element **\n",
      "------------------------------------------------------\n",
      "** Our dataset's columns count as below : ** \n",
      "PassengerId    891\n",
      "Survived       891\n",
      "Pclass         891\n",
      "Name           891\n",
      "Sex            891\n",
      "Age            714\n",
      "SibSp          891\n",
      "Parch          891\n",
      "Ticket         891\n",
      "Fare           891\n",
      "Cabin          204\n",
      "Embarked       889\n",
      "dtype: int64\n",
      "------------------------------------------------------\n",
      "** survival count : ** \n",
      "0    549\n",
      "1    342\n",
      "Name: Survived, dtype: int64\n",
      "------------------------------------------------------\n",
      "** gender count : **\n",
      "male      577\n",
      "female    314\n",
      "Name: Sex, dtype: int64\n",
      "------------------------------------------------------\n",
      "** Class count : **\n",
      "3    491\n",
      "1    216\n",
      "2    184\n",
      "Name: Pclass, dtype: int64\n"
     ]
    }
   ],
   "source": [
    "# overview\n",
    "titanic_pd_sample = titanic_pd.head(10)\n",
    "titanic_pd_szie = titanic_pd.size\n",
    "titanic_pd_count = titanic_pd.count()\n",
    "titanic_pd_Survived_count = titanic_pd['Survived'].value_counts()\n",
    "titanic_pd_gender_count = titanic_pd['Sex'].value_counts()\n",
    "titanic_pd_class_count = titanic_pd['Pclass'].value_counts()\n",
    "\n",
    "\"** let's see sample of our dataset : ** \\n\"\n",
    "titanic_pd_sample\n",
    "print \"** Our dataset has : \" + str(titanic_pd_szie) + \" element **\"\n",
    "print \"------------------------------------------------------\"\n",
    "print \"** Our dataset's columns count as below : ** \\n\" + str(titanic_pd_count)\n",
    "print \"------------------------------------------------------\"\n",
    "print \"** survival count : ** \\n\" + str(titanic_pd_Survived_count) \n",
    "print \"------------------------------------------------------\"\n",
    "print \"** gender count : **\\n\" + str(titanic_pd_gender_count)\n",
    "print \"------------------------------------------------------\"\n",
    "print \"** Class count : **\\n\" + str(titanic_pd_class_count)\n"
   ]
  },
  {
   "cell_type": "code",
   "execution_count": 64,
   "metadata": {
    "collapsed": false
   },
   "outputs": [
    {
     "data": {
      "text/plain": [
       "\"\\nHere, I'm investigating factrs that made people likely to survie.\\nI will look into this through 4 different varibales :\\n    1 Dependent Variable ==> Survived\\n    3 Independent Variables:  ==> Sex, Age, Pclass\\n\""
      ]
     },
     "execution_count": 64,
     "metadata": {},
     "output_type": "execute_result"
    }
   ],
   "source": [
    "###### Question 1: What factors made people more likely to survive?\n",
    "'''\n",
    "Here, I'm investigating factrs that made people likely to survie.\n",
    "I will look into this through 4 different varibales :\n",
    "    1 Dependent Variable ==> Survived\n",
    "    3 Independent Variables:  ==> Sex, Age, Pclass\n",
    "'''"
   ]
  },
  {
   "cell_type": "code",
   "execution_count": 65,
   "metadata": {
    "collapsed": false
   },
   "outputs": [
    {
     "name": "stdout",
     "output_type": "stream",
     "text": [
      "count    714.000000\n",
      "mean      29.699118\n",
      "std       14.526497\n",
      "min        0.420000\n",
      "25%       20.125000\n",
      "50%       28.000000\n",
      "75%       38.000000\n",
      "max       80.000000\n",
      "Name: Age, dtype: float64\n"
     ]
    }
   ],
   "source": [
    "# ler's stat analyze Age\n",
    "print titanic_pd['Age'].describe()"
   ]
  },
  {
   "cell_type": "code",
   "execution_count": 67,
   "metadata": {
    "collapsed": false
   },
   "outputs": [
    {
     "name": "stdout",
     "output_type": "stream",
     "text": [
      "177\n"
     ]
    }
   ],
   "source": [
    "\n",
    "''' As we saw in above overview, we ca clearly see we have missing values in Age colum'''\n",
    "missing_Age_count = titanic_pd['Age'].isnull().sum()\n",
    "print missing_Age_count"
   ]
  },
  {
   "cell_type": "code",
   "execution_count": 75,
   "metadata": {
    "collapsed": false
   },
   "outputs": [
    {
     "data": {
      "text/plain": [
       "0"
      ]
     },
     "execution_count": 75,
     "metadata": {},
     "output_type": "execute_result"
    }
   ],
   "source": [
    "''' I will fill missing ages with 0.0'''\n",
    "titanic_pd_age = titanic_pd\n",
    "titanic_pd_age['Age'] = titanic_pd_age['Age'].fillna(0.0)\n",
    "titanic_pd_age['Age'].isnull().sum()"
   ]
  },
  {
   "cell_type": "code",
   "execution_count": 80,
   "metadata": {
    "collapsed": false
   },
   "outputs": [
    {
     "data": {
      "text/plain": [
       "count    891.000000\n",
       "mean      23.799293\n",
       "std       17.596074\n",
       "min        0.000000\n",
       "25%        6.000000\n",
       "50%       24.000000\n",
       "75%       35.000000\n",
       "max       80.000000\n",
       "Name: Age, dtype: float64"
      ]
     },
     "execution_count": 80,
     "metadata": {},
     "output_type": "execute_result"
    }
   ],
   "source": [
    "''' let us see how stats changed after we fixed missing values in age column'''\n",
    "titanic_pd_age['Age'].describe()"
   ]
  },
  {
   "cell_type": "code",
   "execution_count": 85,
   "metadata": {
    "collapsed": false
   },
   "outputs": [
    {
     "data": {
      "text/plain": [
       "PassengerId\n",
       "1      younge\n",
       "2      younge\n",
       "3      younge\n",
       "4      younge\n",
       "5      younge\n",
       "6         Old\n",
       "7      younge\n",
       "8      younge\n",
       "9      younge\n",
       "10     younge\n",
       "11        Old\n",
       "12     younge\n",
       "13     younge\n",
       "14     younge\n",
       "15        Old\n",
       "16     younge\n",
       "17     younge\n",
       "18     younge\n",
       "19     younge\n",
       "20     younge\n",
       "21     younge\n",
       "22     younge\n",
       "23     younge\n",
       "24     younge\n",
       "25     younge\n",
       "26     younge\n",
       "27     younge\n",
       "28     younge\n",
       "29     younge\n",
       "30     younge\n",
       "        ...  \n",
       "862    younge\n",
       "863    younge\n",
       "864    younge\n",
       "865    younge\n",
       "866    younge\n",
       "867    younge\n",
       "868    younge\n",
       "869    younge\n",
       "870    younge\n",
       "871    younge\n",
       "872    younge\n",
       "873    younge\n",
       "874    younge\n",
       "875    younge\n",
       "876    younge\n",
       "877    younge\n",
       "878    younge\n",
       "879       Old\n",
       "880    younge\n",
       "881    younge\n",
       "882    younge\n",
       "883    younge\n",
       "884    younge\n",
       "885    younge\n",
       "886    younge\n",
       "887    younge\n",
       "888    younge\n",
       "889    younge\n",
       "890    younge\n",
       "891    younge\n",
       "Name: Age, dtype: object"
      ]
     },
     "execution_count": 85,
     "metadata": {},
     "output_type": "execute_result"
    }
   ],
   "source": [
    "age_pd_series = pd.Series(titanic_pd_age['Age'], index=titanic_pd_age['PassengerId'])\n",
    "\n",
    "\n",
    "def group_age(age):\n",
    "    if age >= 50.0 :\n",
    "        return \"Old\"\n",
    "    else:\n",
    "        return \"younge\"\n",
    "\n",
    "age_pd_series.apply(group_age)"
   ]
  },
  {
   "cell_type": "code",
   "execution_count": 53,
   "metadata": {
    "collapsed": false
   },
   "outputs": [
    {
     "data": {
      "text/plain": [
       "Survived\n",
       "0    549\n",
       "1    342\n",
       "Name: PassengerId, dtype: int64"
      ]
     },
     "execution_count": 53,
     "metadata": {},
     "output_type": "execute_result"
    }
   ],
   "source": [
    "# how many Survived vs not-Survived (this time I used groupby)\n",
    "Survived = titanic_pd.groupby('Survived')\n",
    "Survived.count()['PassengerId']"
   ]
  },
  {
   "cell_type": "code",
   "execution_count": 34,
   "metadata": {
    "collapsed": false
   },
   "outputs": [
    {
     "data": {
      "text/plain": [
       "Survived  Sex   \n",
       "0         female     81\n",
       "          male      468\n",
       "1         female    233\n",
       "          male      109\n",
       "Name: PassengerId, dtype: int64"
      ]
     },
     "execution_count": 34,
     "metadata": {},
     "output_type": "execute_result"
    }
   ],
   "source": [
    "# how many Survived vs not-Survived per sex\n",
    "Survived = titanic_pd.groupby(['Survived','Sex'])\n",
    "Survived.count()['PassengerId']"
   ]
  },
  {
   "cell_type": "code",
   "execution_count": 79,
   "metadata": {
    "collapsed": false
   },
   "outputs": [
    {
     "data": {
      "text/plain": [
       "Survived  Pclass  Sex   \n",
       "0         1       female      3\n",
       "                  male       77\n",
       "          2       female      6\n",
       "                  male       91\n",
       "          3       female     72\n",
       "                  male      300\n",
       "1         1       female     91\n",
       "                  male       45\n",
       "          2       female     70\n",
       "                  male       17\n",
       "          3       female     72\n",
       "                  male       47\n",
       "Name: PassengerId, dtype: int64"
      ]
     },
     "execution_count": 79,
     "metadata": {},
     "output_type": "execute_result"
    }
   ],
   "source": [
    "# how many Survived vs not-Survived per Pclass\n",
    "Survived = titanic_pd.groupby(['Survived','Pclass', 'Sex'])\n",
    "Survived['PassengerId'].count()"
   ]
  },
  {
   "cell_type": "code",
   "execution_count": 86,
   "metadata": {
    "collapsed": false
   },
   "outputs": [
    {
     "data": {
      "text/plain": [
       "38.38383838383838"
      ]
     },
     "execution_count": 86,
     "metadata": {},
     "output_type": "execute_result"
    }
   ],
   "source": [
    "# chance of survie overall\n",
    "titanic_pd['Survived'].mean() * 100\n"
   ]
  },
  {
   "cell_type": "code",
   "execution_count": 87,
   "metadata": {
    "collapsed": false
   },
   "outputs": [
    {
     "data": {
      "text/plain": [
       "Pclass\n",
       "1    0.629630\n",
       "2    0.472826\n",
       "3    0.242363\n",
       "Name: Survived, dtype: float64"
      ]
     },
     "execution_count": 87,
     "metadata": {},
     "output_type": "execute_result"
    }
   ],
   "source": [
    "Survived = titanic_pd.groupby('Pclass')\n",
    "Survived.mean()['Survived']"
   ]
  },
  {
   "cell_type": "code",
   "execution_count": 94,
   "metadata": {
    "collapsed": false
   },
   "outputs": [
    {
     "data": {
      "text/plain": [
       "29.69911764705882"
      ]
     },
     "execution_count": 94,
     "metadata": {},
     "output_type": "execute_result"
    }
   ],
   "source": [
    "# age mean\n",
    "titanic_pd['Age'].mean()\n"
   ]
  },
  {
   "cell_type": "code",
   "execution_count": 93,
   "metadata": {
    "collapsed": false
   },
   "outputs": [
    {
     "data": {
      "text/plain": [
       "14.526497332334044"
      ]
     },
     "execution_count": 93,
     "metadata": {},
     "output_type": "execute_result"
    }
   ],
   "source": [
    "# age mean\n",
    "titanic_pd['Age'].std()\n"
   ]
  },
  {
   "cell_type": "code",
   "execution_count": null,
   "metadata": {
    "collapsed": true
   },
   "outputs": [],
   "source": []
  }
 ],
 "metadata": {
  "kernelspec": {
   "display_name": "Python 2",
   "language": "python",
   "name": "python2"
  },
  "language_info": {
   "codemirror_mode": {
    "name": "ipython",
    "version": 2
   },
   "file_extension": ".py",
   "mimetype": "text/x-python",
   "name": "python",
   "nbconvert_exporter": "python",
   "pygments_lexer": "ipython2",
   "version": "2.7.13"
  }
 },
 "nbformat": 4,
 "nbformat_minor": 2
}
