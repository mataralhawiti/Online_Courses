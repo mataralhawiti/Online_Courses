{
 "cells": [
  {
   "cell_type": "markdown",
   "metadata": {},
   "source": [
    "Before we get started, a couple of reminders to keep in mind when using iPython notebooks:\n",
    "\n",
    "- Remember that you can see from the left side of a code cell when it was last run if there is a number within the brackets.\n",
    "- When you start a new notebook session, make sure you run all of the cells up to the point where you last left off. Even if the output is still visible from when you ran the cells in your previous session, the kernel starts in a fresh state so you'll need to reload the data, etc. on a new session.\n",
    "- The previous point is useful to keep in mind if your answers do not match what is expected in the lesson's quizzes. Try reloading the data and run all of the processing steps one by one in order to make sure that you are working with the same variables and data that are at each quiz stage.\n",
    "\n",
    "\n",
    "## Load Data from CSVs"
   ]
  },
  {
   "cell_type": "code",
   "execution_count": 12,
   "metadata": {
    "collapsed": true
   },
   "outputs": [],
   "source": [
    "import unicodecsv\n",
    "\n",
    "## Longer version of code (replaced with shorter, equivalent version below)\n",
    "\n",
    "# enrollments = []\n",
    "# f = open('enrollments.csv', 'rb')\n",
    "# reader = unicodecsv.DictReader(f)\n",
    "# for row in reader:\n",
    "#     enrollments.append(row)\n",
    "# f.close()\n",
    "\n",
    "with open('enrollments.csv', 'rb') as f:\n",
    "    reader = unicodecsv.DictReader(f)\n",
    "    enrollments = list(reader)"
   ]
  },
  {
   "cell_type": "code",
   "execution_count": 13,
   "metadata": {
    "collapsed": false
   },
   "outputs": [],
   "source": [
    "#####################################\n",
    "#                 1                 #\n",
    "#####################################\n",
    "\n",
    "## Read in the data from daily_engagement.csv and project_submissions.csv \n",
    "## and store the results in the below variables.\n",
    "## Then look at the first row of each table.\n",
    "\n",
    "import unicodecsv\n",
    "\n",
    "def read_csv(filename):\n",
    "    with open(filename, 'rb') as f:\n",
    "        reader = unicodecsv.DictReader(f)\n",
    "        return list(reader)\n",
    "\n",
    "enrollments = read_csv('enrollments.csv')\n",
    "daily_engagement = read_csv('daily_engagement.csv')\n",
    "project_submissions = read_csv('project_submissions.csv')"
   ]
  },
  {
   "cell_type": "markdown",
   "metadata": {},
   "source": [
    "## Fixing Data Types"
   ]
  },
  {
   "cell_type": "code",
   "execution_count": 14,
   "metadata": {
    "collapsed": false
   },
   "outputs": [
    {
     "data": {
      "text/plain": [
       "{u'account_key': u'448',\n",
       " u'cancel_date': datetime.datetime(2015, 1, 14, 0, 0),\n",
       " u'days_to_cancel': 65,\n",
       " u'is_canceled': True,\n",
       " u'is_udacity': True,\n",
       " u'join_date': datetime.datetime(2014, 11, 10, 0, 0),\n",
       " u'status': u'canceled'}"
      ]
     },
     "execution_count": 14,
     "metadata": {},
     "output_type": "execute_result"
    }
   ],
   "source": [
    "from datetime import datetime as dt\n",
    "\n",
    "# Takes a date as a string, and returns a Python datetime object. \n",
    "# If there is no date given, returns None\n",
    "def parse_date(date):\n",
    "    if date == '':\n",
    "        return None\n",
    "    else:\n",
    "        return dt.strptime(date, '%Y-%m-%d')\n",
    "    \n",
    "# Takes a string which is either an empty string or represents an integer,\n",
    "# and returns an int or None.\n",
    "def parse_maybe_int(i):\n",
    "    if i == '':\n",
    "        return None\n",
    "    else:\n",
    "        return int(i)\n",
    "\n",
    "# Clean up the data types in the enrollments table\n",
    "for enrollment in enrollments:\n",
    "    enrollment['cancel_date'] = parse_date(enrollment['cancel_date'])\n",
    "    enrollment['days_to_cancel'] = parse_maybe_int(enrollment['days_to_cancel'])\n",
    "    enrollment['is_canceled'] = enrollment['is_canceled'] == 'True'\n",
    "    enrollment['is_udacity'] = enrollment['is_udacity'] == 'True'\n",
    "    enrollment['join_date'] = parse_date(enrollment['join_date'])\n",
    "    \n",
    "enrollments[0]"
   ]
  },
  {
   "cell_type": "code",
   "execution_count": 15,
   "metadata": {
    "collapsed": false
   },
   "outputs": [
    {
     "data": {
      "text/plain": [
       "{u'acct': u'0',\n",
       " u'lessons_completed': 0,\n",
       " u'num_courses_visited': 1,\n",
       " u'projects_completed': 0,\n",
       " u'total_minutes_visited': 11.6793745,\n",
       " u'utc_date': datetime.datetime(2015, 1, 9, 0, 0)}"
      ]
     },
     "execution_count": 15,
     "metadata": {},
     "output_type": "execute_result"
    }
   ],
   "source": [
    "# Clean up the data types in the engagement table\n",
    "for engagement_record in daily_engagement:\n",
    "    engagement_record['lessons_completed'] = int(float(engagement_record['lessons_completed']))\n",
    "    engagement_record['num_courses_visited'] = int(float(engagement_record['num_courses_visited']))\n",
    "    engagement_record['projects_completed'] = int(float(engagement_record['projects_completed']))\n",
    "    engagement_record['total_minutes_visited'] = float(engagement_record['total_minutes_visited'])\n",
    "    engagement_record['utc_date'] = parse_date(engagement_record['utc_date'])\n",
    "    \n",
    "daily_engagement[0]"
   ]
  },
  {
   "cell_type": "code",
   "execution_count": 16,
   "metadata": {
    "collapsed": false
   },
   "outputs": [
    {
     "data": {
      "text/plain": [
       "{u'account_key': u'256',\n",
       " u'assigned_rating': u'UNGRADED',\n",
       " u'completion_date': datetime.datetime(2015, 1, 16, 0, 0),\n",
       " u'creation_date': datetime.datetime(2015, 1, 14, 0, 0),\n",
       " u'lesson_key': u'3176718735',\n",
       " u'processing_state': u'EVALUATED'}"
      ]
     },
     "execution_count": 16,
     "metadata": {},
     "output_type": "execute_result"
    }
   ],
   "source": [
    "# Clean up the data types in the submissions table\n",
    "for submission in project_submissions:\n",
    "    submission['completion_date'] = parse_date(submission['completion_date'])\n",
    "    submission['creation_date'] = parse_date(submission['creation_date'])\n",
    "\n",
    "project_submissions[0]"
   ]
  },
  {
   "cell_type": "markdown",
   "metadata": {},
   "source": [
    "Note when running the above cells that we are actively changing the contents of our data variables. If you try to run these cells multiple times in the same session, an error will occur.\n",
    "\n",
    "## Investigating the Data"
   ]
  },
  {
   "cell_type": "code",
   "execution_count": 17,
   "metadata": {
    "collapsed": false
   },
   "outputs": [
    {
     "data": {
      "text/plain": [
       "743"
      ]
     },
     "execution_count": 17,
     "metadata": {},
     "output_type": "execute_result"
    }
   ],
   "source": [
    "#####################################\n",
    "#                 2                 #\n",
    "#####################################\n",
    "\n",
    "## Find the total number of rows and the number of unique students (account keys)\n",
    "## in each table.\n",
    "len(enrollments)\n",
    "\n",
    "unique_enrolled_students = set()\n",
    "for enrollment in enrollments:\n",
    "    unique_enrolled_students.add(enrollment['account_key'])\n",
    "len(unique_enrolled_students)\n",
    "\n",
    "len(daily_engagement)\n",
    "\n",
    "unique_engagement_students = set()\n",
    "for engagement_record in daily_engagement:\n",
    "    unique_engagement_students.add(engagement_record['acct'])\n",
    "len(unique_engagement_students)\n",
    "\n",
    "len(project_submissions)\n",
    "\n",
    "unique_project_submitters = set()\n",
    "for submission in project_submissions:\n",
    "    unique_project_submitters.add(submission['account_key'])\n",
    "len(unique_project_submitters)"
   ]
  },
  {
   "cell_type": "markdown",
   "metadata": {},
   "source": [
    "## Problems in the Data"
   ]
  },
  {
   "cell_type": "code",
   "execution_count": 18,
   "metadata": {
    "collapsed": false
   },
   "outputs": [],
   "source": [
    "#####################################\n",
    "#                 3                 #\n",
    "#####################################\n",
    "\n",
    "## Rename the \"acct\" column in the daily_engagement table to \"account_key\".\n",
    "for engagement_record in daily_engagement:\n",
    "    engagement_record['account_key'] = engagement_record['acct']\n",
    "    del[engagement_record['acct']]"
   ]
  },
  {
   "cell_type": "markdown",
   "metadata": {},
   "source": [
    "## Missing Engagement Records"
   ]
  },
  {
   "cell_type": "code",
   "execution_count": 19,
   "metadata": {
    "collapsed": false
   },
   "outputs": [
    {
     "name": "stdout",
     "output_type": "stream",
     "text": [
      "{u'status': u'canceled', u'is_udacity': False, u'is_canceled': True, u'join_date': datetime.datetime(2014, 11, 12, 0, 0), u'account_key': u'1219', u'cancel_date': datetime.datetime(2014, 11, 12, 0, 0), u'days_to_cancel': 0}\n"
     ]
    }
   ],
   "source": [
    "#####################################\n",
    "#                 4                 #\n",
    "#####################################\n",
    "\n",
    "## Find any one student enrollments where the student is missing from the daily engagement table.\n",
    "## Output that enrollment.\n",
    "for enrollment in enrollments:\n",
    "    student = enrollment['account_key']\n",
    "    if student not in unique_engagement_students:\n",
    "        print enrollment\n",
    "        break"
   ]
  },
  {
   "cell_type": "markdown",
   "metadata": {},
   "source": [
    "## Checking for More Problem Records"
   ]
  },
  {
   "cell_type": "code",
   "execution_count": 20,
   "metadata": {
    "collapsed": false
   },
   "outputs": [
    {
     "name": "stdout",
     "output_type": "stream",
     "text": [
      "{u'status': u'canceled', u'is_udacity': True, u'is_canceled': True, u'join_date': datetime.datetime(2015, 1, 10, 0, 0), u'account_key': u'1304', u'cancel_date': datetime.datetime(2015, 3, 10, 0, 0), u'days_to_cancel': 59}\n",
      "{u'status': u'canceled', u'is_udacity': True, u'is_canceled': True, u'join_date': datetime.datetime(2015, 3, 10, 0, 0), u'account_key': u'1304', u'cancel_date': datetime.datetime(2015, 6, 17, 0, 0), u'days_to_cancel': 99}\n",
      "{u'status': u'current', u'is_udacity': True, u'is_canceled': False, u'join_date': datetime.datetime(2015, 2, 25, 0, 0), u'account_key': u'1101', u'cancel_date': None, u'days_to_cancel': None}\n"
     ]
    },
    {
     "data": {
      "text/plain": [
       "3"
      ]
     },
     "execution_count": 20,
     "metadata": {},
     "output_type": "execute_result"
    }
   ],
   "source": [
    "#####################################\n",
    "#                 5                 #\n",
    "#####################################\n",
    "\n",
    "## Find the number of surprising data points (enrollments missing from\n",
    "## the engagement table) that remain, if any.\n",
    "num_problem_students = 0\n",
    "for enrollment in enrollments:\n",
    "    student = enrollment['account_key']\n",
    "    if (student not in unique_engagement_students and \n",
    "            enrollment['join_date'] != enrollment['cancel_date']):\n",
    "        print enrollment\n",
    "        num_problem_students += 1\n",
    "\n",
    "num_problem_students"
   ]
  },
  {
   "cell_type": "markdown",
   "metadata": {},
   "source": [
    "## Tracking Down the Remaining Problems"
   ]
  },
  {
   "cell_type": "code",
   "execution_count": 21,
   "metadata": {
    "collapsed": false
   },
   "outputs": [
    {
     "data": {
      "text/plain": [
       "6"
      ]
     },
     "execution_count": 21,
     "metadata": {},
     "output_type": "execute_result"
    }
   ],
   "source": [
    "# Create a set of the account keys for all Udacity test accounts\n",
    "udacity_test_accounts = set()\n",
    "for enrollment in enrollments:\n",
    "    if enrollment['is_udacity']:\n",
    "        udacity_test_accounts.add(enrollment['account_key'])\n",
    "len(udacity_test_accounts)"
   ]
  },
  {
   "cell_type": "code",
   "execution_count": 22,
   "metadata": {
    "collapsed": true
   },
   "outputs": [],
   "source": [
    "# Given some data with an account_key field, removes any records corresponding to Udacity test accounts\n",
    "def remove_udacity_accounts(data):\n",
    "    non_udacity_data = []\n",
    "    for data_point in data:\n",
    "        if data_point['account_key'] not in udacity_test_accounts:\n",
    "            non_udacity_data.append(data_point)\n",
    "    return non_udacity_data"
   ]
  },
  {
   "cell_type": "code",
   "execution_count": 23,
   "metadata": {
    "collapsed": false
   },
   "outputs": [
    {
     "name": "stdout",
     "output_type": "stream",
     "text": [
      "1622\n",
      "135656\n",
      "3634\n"
     ]
    }
   ],
   "source": [
    "# Remove Udacity test accounts from all three tables\n",
    "non_udacity_enrollments = remove_udacity_accounts(enrollments)\n",
    "non_udacity_engagement = remove_udacity_accounts(daily_engagement)\n",
    "non_udacity_submissions = remove_udacity_accounts(project_submissions)\n",
    "\n",
    "print len(non_udacity_enrollments)\n",
    "print len(non_udacity_engagement)\n",
    "print len(non_udacity_submissions)"
   ]
  },
  {
   "cell_type": "markdown",
   "metadata": {},
   "source": [
    "## Refining the Question"
   ]
  },
  {
   "cell_type": "code",
   "execution_count": 24,
   "metadata": {
    "collapsed": false
   },
   "outputs": [
    {
     "data": {
      "text/plain": [
       "995"
      ]
     },
     "execution_count": 24,
     "metadata": {},
     "output_type": "execute_result"
    }
   ],
   "source": [
    "#####################################\n",
    "#                 6                 #\n",
    "#####################################\n",
    "\n",
    "## Create a dictionary named paid_students containing all students who either\n",
    "## haven't canceled yet or who remained enrolled for more than 7 days. The keys\n",
    "## should be account keys, and the values should be the date the student enrolled.\n",
    "\n",
    "paid_students = {}\n",
    "for enrollment in non_udacity_enrollments:\n",
    "    if (not enrollment['is_canceled'] or\n",
    "            enrollment['days_to_cancel'] > 7):\n",
    "        account_key = enrollment['account_key']\n",
    "        enrollment_date = enrollment['join_date']\n",
    "        if (account_key not in paid_students or\n",
    "                enrollment_date > paid_students[account_key]):\n",
    "            paid_students[account_key] = enrollment_date\n",
    "len(paid_students)"
   ]
  },
  {
   "cell_type": "markdown",
   "metadata": {},
   "source": [
    "## Getting Data from First Week"
   ]
  },
  {
   "cell_type": "code",
   "execution_count": 35,
   "metadata": {
    "collapsed": false
   },
   "outputs": [
    {
     "name": "stdout",
     "output_type": "stream",
     "text": [
      "1293\n",
      "134549\n",
      "3618\n"
     ]
    }
   ],
   "source": [
    "# Takes a student's join date and the date of a specific engagement record,\n",
    "# and returns True if that engagement record happened within one week\n",
    "# of the student joining.\n",
    "def within_one_week(join_date, engagement_date):\n",
    "    time_delta = engagement_date - join_date\n",
    "    return time_delta.days >= 0 and time_delta.days < 7\n",
    "\n",
    "def remove_free_trial_cancels(data):\n",
    "    new_data = []\n",
    "    for data_point in data:\n",
    "        if data_point['account_key'] in paid_students:\n",
    "            new_data.append(data_point)\n",
    "    return new_data\n",
    "\n",
    "paid_enrollments = remove_free_trial_cancels(non_udacity_enrollments)\n",
    "paid_engagement = remove_free_trial_cancels(non_udacity_engagement)\n",
    "paid_submissions = remove_free_trial_cancels(non_udacity_submissions)\n",
    "\n",
    "print len(paid_enrollments)\n",
    "print len(paid_engagement)\n",
    "print len(paid_submissions)"
   ]
  },
  {
   "cell_type": "code",
   "execution_count": 49,
   "metadata": {
    "collapsed": true
   },
   "outputs": [],
   "source": [
    "for engagement_record in paid_engagement:\n",
    "    if engagement_record['num_courses_visited'] > 0:\n",
    "        engagement_record['has_visited'] = 1\n",
    "    else:\n",
    "        engagement_record['has_visited'] = 0"
   ]
  },
  {
   "cell_type": "code",
   "execution_count": 50,
   "metadata": {
    "collapsed": false
   },
   "outputs": [
    {
     "data": {
      "text/plain": [
       "6919"
      ]
     },
     "execution_count": 50,
     "metadata": {},
     "output_type": "execute_result"
    }
   ],
   "source": [
    "#####################################\n",
    "#                 7                 #\n",
    "#####################################\n",
    "\n",
    "## Create a list of rows from the engagement table including only rows where\n",
    "## the student is one of the paid students you just found, and the date is within\n",
    "## one week of the student's join date.\n",
    "\n",
    "paid_engagement_in_first_week = []\n",
    "for engagement_record in paid_engagement:\n",
    "    account_key = engagement_record['account_key']\n",
    "    join_date = paid_students[account_key]\n",
    "    engagement_record_date = engagement_record['utc_date']\n",
    "\n",
    "    if within_one_week(join_date, engagement_record_date):\n",
    "         paid_engagement_in_first_week.append(engagement_record)\n",
    "\n",
    "len(paid_engagement_in_first_week)"
   ]
  },
  {
   "cell_type": "markdown",
   "metadata": {},
   "source": [
    "## Exploring Student Engagement"
   ]
  },
  {
   "cell_type": "code",
   "execution_count": 51,
   "metadata": {
    "collapsed": true
   },
   "outputs": [],
   "source": [
    "from collections import defaultdict\n",
    "\n",
    "# Create a dictionary of engagement grouped by student.\n",
    "# The keys are account keys, and the values are lists of engagement records.\n",
    "def group_data(data, key_name):\n",
    "    grouped_data = defaultdict(list)\n",
    "    for data_point in data:\n",
    "        key = data_point[key_name]\n",
    "        grouped_data[key].append(data_point)\n",
    "    return grouped_data\n",
    "\n",
    "engagement_by_account = group_data(paid_engagement_in_first_week,\n",
    "                                   'account_key')"
   ]
  },
  {
   "cell_type": "code",
   "execution_count": 52,
   "metadata": {
    "collapsed": true
   },
   "outputs": [],
   "source": [
    "# Create a dictionary with the total minutes each student spent in the classroom during the first week.\n",
    "# The keys are account keys, and the values are numbers (total minutes)\n",
    "def sum_grouped_items(grouped_data, field_name):\n",
    "    summed_data = {}\n",
    "    for key, data_points in grouped_data.items():\n",
    "        total = 0\n",
    "        for data_point in data_points:\n",
    "            total += data_point[field_name]\n",
    "        summed_data[key] = total\n",
    "    return summed_data\n",
    "\n",
    "total_minutes_by_account = sum_grouped_items(engagement_by_account,\n",
    "                                             'total_minutes_visited')"
   ]
  },
  {
   "cell_type": "code",
   "execution_count": 74,
   "metadata": {
    "collapsed": false
   },
   "outputs": [
    {
     "name": "stdout",
     "output_type": "stream",
     "text": [
      "Populating the interactive namespace from numpy and matplotlib\n"
     ]
    }
   ],
   "source": [
    "%pylab inline\n",
    "\n",
    "import matplotlib.pyplot as plt\n",
    "import numpy as np\n",
    "\n",
    "# Summarize the given data\n",
    "def describe_data(data):\n",
    "    print 'Mean:', np.mean(data)\n",
    "    print 'Standard deviation:', np.std(data)\n",
    "    print 'Minimum:', np.min(data)\n",
    "    print 'Maximum:', np.max(data)\n",
    "    plt.hist(data)"
   ]
  },
  {
   "cell_type": "markdown",
   "metadata": {},
   "source": [
    "## Debugging Data Analysis Code"
   ]
  },
  {
   "cell_type": "code",
   "execution_count": 75,
   "metadata": {
    "collapsed": false
   },
   "outputs": [
    {
     "data": {
      "text/plain": [
       "3564.7332644989997"
      ]
     },
     "execution_count": 75,
     "metadata": {},
     "output_type": "execute_result"
    }
   ],
   "source": [
    "#####################################\n",
    "#                 8                 #\n",
    "#####################################\n",
    "\n",
    "## Go through a similar process as before to see if there is a problem.\n",
    "## Locate at least one surprising piece of data, output it, and take a look at it.\n",
    "student_with_max_minutes = None\n",
    "max_minutes = 0\n",
    "\n",
    "for student, total_minutes in total_minutes_by_account.items():\n",
    "    if total_minutes > max_minutes:\n",
    "        max_minutes = total_minutes\n",
    "        student_with_max_minutes = student\n",
    "\n",
    "max_minutes\n",
    "\n"
   ]
  },
  {
   "cell_type": "code",
   "execution_count": 76,
   "metadata": {
    "collapsed": false
   },
   "outputs": [
    {
     "name": "stdout",
     "output_type": "stream",
     "text": [
      "{u'lessons_completed': 4, u'num_courses_visited': 4, 'has_visited': 1, u'total_minutes_visited': 850.519339666, u'projects_completed': 0, 'account_key': u'163', u'utc_date': datetime.datetime(2015, 7, 9, 0, 0)}\n",
      "{u'lessons_completed': 6, u'num_courses_visited': 6, 'has_visited': 1, u'total_minutes_visited': 872.633923334, u'projects_completed': 0, 'account_key': u'163', u'utc_date': datetime.datetime(2015, 7, 10, 0, 0)}\n",
      "{u'lessons_completed': 6, u'num_courses_visited': 2, 'has_visited': 1, u'total_minutes_visited': 777.018903666, u'projects_completed': 0, 'account_key': u'163', u'utc_date': datetime.datetime(2015, 7, 11, 0, 0)}\n",
      "{u'lessons_completed': 2, u'num_courses_visited': 1, 'has_visited': 1, u'total_minutes_visited': 294.568774, u'projects_completed': 0, 'account_key': u'163', u'utc_date': datetime.datetime(2015, 7, 12, 0, 0)}\n",
      "{u'lessons_completed': 1, u'num_courses_visited': 3, 'has_visited': 1, u'total_minutes_visited': 471.2139785, u'projects_completed': 0, 'account_key': u'163', u'utc_date': datetime.datetime(2015, 7, 13, 0, 0)}\n",
      "{u'lessons_completed': 1, u'num_courses_visited': 2, 'has_visited': 1, u'total_minutes_visited': 298.778345333, u'projects_completed': 0, 'account_key': u'163', u'utc_date': datetime.datetime(2015, 7, 14, 0, 0)}\n",
      "{u'lessons_completed': 0, u'num_courses_visited': 0, 'has_visited': 0, u'total_minutes_visited': 0.0, u'projects_completed': 0, 'account_key': u'163', u'utc_date': datetime.datetime(2015, 7, 15, 0, 0)}\n"
     ]
    }
   ],
   "source": [
    "for engagement_record in paid_engagement_in_first_week:\n",
    "    if engagement_record['account_key'] == student_with_max_minutes:\n",
    "        print engagement_record"
   ]
  },
  {
   "cell_type": "markdown",
   "metadata": {},
   "source": [
    "## Lessons Completed in First Week"
   ]
  },
  {
   "cell_type": "code",
   "execution_count": 77,
   "metadata": {
    "collapsed": false
   },
   "outputs": [
    {
     "name": "stdout",
     "output_type": "stream",
     "text": [
      "Mean: 1.63618090452\n",
      "Standard deviation: 3.00256129983\n",
      "Minimum: 0\n",
      "Maximum: 36\n"
     ]
    },
    {
     "data": {
      "image/png": "[encoded data removed]",
      "text/plain": [
       "<matplotlib.figure.Figure at 0x7f4c2ef100d0>"
      ]
     },
     "metadata": {},
     "output_type": "display_data"
    }
   ],
   "source": [
    "#####################################\n",
    "#                 9                 #\n",
    "#####################################\n",
    "\n",
    "## Adapt the code above to find the mean, standard deviation, minimum, and maximum for\n",
    "## the number of lessons completed by each student during the first week. Try creating\n",
    "## one or more functions to re-use the code above.\n",
    "lessons_completed_by_account = sum_grouped_items(engagement_by_account,\n",
    "                                                 'lessons_completed')\n",
    "describe_data(lessons_completed_by_account.values())"
   ]
  },
  {
   "cell_type": "markdown",
   "metadata": {},
   "source": [
    "## Number of Visits in First Week"
   ]
  },
  {
   "cell_type": "code",
   "execution_count": 78,
   "metadata": {
    "collapsed": false
   },
   "outputs": [
    {
     "name": "stdout",
     "output_type": "stream",
     "text": [
      "Mean: 2.86733668342\n",
      "Standard deviation: 2.25519800292\n",
      "Minimum: 0\n",
      "Maximum: 7\n"
     ]
    },
    {
     "data": {
      "image/png": "[encoded data removed]",
      "text/plain": [
       "<matplotlib.figure.Figure at 0x7f4c2d931cd0>"
      ]
     },
     "metadata": {},
     "output_type": "display_data"
    }
   ],
   "source": [
    "######################################\n",
    "#                 10                 #\n",
    "######################################\n",
    "\n",
    "## Find the mean, standard deviation, minimum, and maximum for the number of\n",
    "## days each student visits the classroom during the first week.\n",
    "days_visited_by_account = sum_grouped_items(engagement_by_account,\n",
    "                                            'has_visited')\n",
    "describe_data(days_visited_by_account.values())"
   ]
  },
  {
   "cell_type": "markdown",
   "metadata": {},
   "source": [
    "## Splitting out Passing Students"
   ]
  },
  {
   "cell_type": "code",
   "execution_count": 79,
   "metadata": {
    "collapsed": false
   },
   "outputs": [
    {
     "data": {
      "text/plain": [
       "647"
      ]
     },
     "execution_count": 79,
     "metadata": {},
     "output_type": "execute_result"
    }
   ],
   "source": [
    "######################################\n",
    "#                 11                 #\n",
    "######################################\n",
    "\n",
    "## Create two lists of engagement data for paid students in the first week.\n",
    "## The first list should contain data for students who eventually pass the\n",
    "## subway project, and the second list should contain data for students\n",
    "## who do not.\n",
    "\n",
    "subway_project_lesson_keys = ['746169184', '3176718735']\n",
    "\n",
    "pass_subway_project = set()\n",
    "\n",
    "for submission in paid_submissions:\n",
    "    project = submission['lesson_key']\n",
    "    rating = submission['assigned_rating']    \n",
    "\n",
    "    if ((project in subway_project_lesson_keys) and\n",
    "            (rating == 'PASSED' or rating == 'DISTINCTION')):\n",
    "        pass_subway_project.add(submission['account_key'])\n",
    "\n",
    "len(pass_subway_project)\n"
   ]
  },
  {
   "cell_type": "code",
   "execution_count": 80,
   "metadata": {
    "collapsed": false
   },
   "outputs": [
    {
     "name": "stdout",
     "output_type": "stream",
     "text": [
      "4527\n",
      "2392\n"
     ]
    }
   ],
   "source": [
    "passing_engagement = []\n",
    "non_passing_engagement = []\n",
    "\n",
    "for engagement_record in paid_engagement_in_first_week:\n",
    "    if engagement_record['account_key'] in pass_subway_project:\n",
    "        passing_engagement.append(engagement_record)\n",
    "    else:\n",
    "        non_passing_engagement.append(engagement_record)\n",
    "\n",
    "print len(passing_engagement)\n",
    "print len(non_passing_engagement)"
   ]
  },
  {
   "cell_type": "markdown",
   "metadata": {},
   "source": [
    "## Comparing the Two Student Groups"
   ]
  },
  {
   "cell_type": "code",
   "execution_count": 81,
   "metadata": {
    "collapsed": false
   },
   "outputs": [],
   "source": [
    "######################################\n",
    "#                 12                 #\n",
    "######################################\n",
    "\n",
    "## Compute some metrics you're interested in and see how they differ for\n",
    "## students who pass the subway project vs. students who don't. A good\n",
    "## starting point would be the metrics we looked at earlier (minutes spent\n",
    "## in the classroom, lessons completed, and days visited).\n",
    "passing_engagement_by_account = group_data(passing_engagement,\n",
    "                                           'account_key')\n",
    "non_passing_engagement_by_account = group_data(non_passing_engagement,\n",
    "                                               'account_key')"
   ]
  },
  {
   "cell_type": "code",
   "execution_count": 82,
   "metadata": {
    "collapsed": false
   },
   "outputs": [
    {
     "name": "stdout",
     "output_type": "stream",
     "text": [
      "non-passing students:\n",
      "Mean: 143.326474267\n",
      "Standard deviation: 269.538619011\n",
      "Minimum: 0.0\n",
      "Maximum: 1768.52274933\n",
      "passing students:\n",
      "Mean: 394.586046484\n",
      "Standard deviation: 448.499519327\n",
      "Minimum: 0.0\n",
      "Maximum: 3564.7332645\n"
     ]
    },
    {
     "data": {
      "image/png": "[encoded data removed]",
      "text/plain": [
       "<matplotlib.figure.Figure at 0x7f4c3c6bc690>"
      ]
     },
     "metadata": {},
     "output_type": "display_data"
    }
   ],
   "source": [
    "print 'non-passing students:'\n",
    "non_passing_minutes = sum_grouped_items(\n",
    "    non_passing_engagement_by_account,\n",
    "    'total_minutes_visited'\n",
    ")\n",
    "describe_data(non_passing_minutes.values())\n",
    "\n",
    "print 'passing students:'\n",
    "passing_minutes = sum_grouped_items(\n",
    "    passing_engagement_by_account,\n",
    "    'total_minutes_visited'\n",
    ")\n",
    "describe_data(passing_minutes.values())"
   ]
  },
  {
   "cell_type": "code",
   "execution_count": 83,
   "metadata": {
    "collapsed": false
   },
   "outputs": [
    {
     "name": "stdout",
     "output_type": "stream",
     "text": [
      "non-passing students:\n",
      "Mean: 0.862068965517\n",
      "Standard deviation: 2.54915994183\n",
      "Minimum: 0\n",
      "Maximum: 27\n",
      "passing students:\n",
      "Mean: 2.05255023184\n",
      "Standard deviation: 3.14222705558\n",
      "Minimum: 0\n",
      "Maximum: 36\n"
     ]
    },
    {
     "data": {
      "image/png": "[encoded data removed]",
      "text/plain": [
       "<matplotlib.figure.Figure at 0x7f4c495ab1d0>"
      ]
     },
     "metadata": {},
     "output_type": "display_data"
    }
   ],
   "source": [
    "print 'non-passing students:'\n",
    "non_passing_lessons = sum_grouped_items(\n",
    "    non_passing_engagement_by_account,\n",
    "    'lessons_completed'\n",
    ")\n",
    "describe_data(non_passing_lessons.values())\n",
    "\n",
    "print 'passing students:'\n",
    "passing_lessons = sum_grouped_items(\n",
    "    passing_engagement_by_account,\n",
    "    'lessons_completed'\n",
    ")\n",
    "describe_data(passing_lessons.values())"
   ]
  },
  {
   "cell_type": "code",
   "execution_count": 84,
   "metadata": {
    "collapsed": false
   },
   "outputs": [
    {
     "name": "stdout",
     "output_type": "stream",
     "text": [
      "non-passing students:\n",
      "Mean: 1.90517241379\n",
      "Standard deviation: 1.90573144136\n",
      "Minimum: 0\n",
      "Maximum: 7\n",
      "passing students:\n",
      "Mean: 3.38485316847\n",
      "Standard deviation: 2.25882147092\n",
      "Minimum: 0\n",
      "Maximum: 7\n"
     ]
    },
    {
     "data": {
      "image/png": "[encoded data removed]",
      "text/plain": [
       "<matplotlib.figure.Figure at 0x7f4c2db8a390>"
      ]
     },
     "metadata": {},
     "output_type": "display_data"
    }
   ],
   "source": [
    "print 'non-passing students:'\n",
    "non_passing_visits = sum_grouped_items(\n",
    "    non_passing_engagement_by_account, \n",
    "    'has_visited'\n",
    ")\n",
    "describe_data(non_passing_visits.values())\n",
    "\n",
    "print 'passing students:'\n",
    "passing_visits = sum_grouped_items(\n",
    "    passing_engagement_by_account,\n",
    "    'has_visited'\n",
    ")\n",
    "describe_data(passing_visits.values())"
   ]
  },
  {
   "cell_type": "markdown",
   "metadata": {},
   "source": [
    "## Making Histograms"
   ]
  },
  {
   "cell_type": "code",
   "execution_count": null,
   "metadata": {
    "collapsed": true
   },
   "outputs": [],
   "source": [
    "######################################\n",
    "#                 13                 #\n",
    "######################################\n",
    "\n",
    "## Make histograms of the three metrics we looked at earlier for both\n",
    "## students who passed the subway project and students who didn't. You\n",
    "## might also want to make histograms of any other metrics you examined."
   ]
  },
  {
   "cell_type": "markdown",
   "metadata": {},
   "source": [
    "## Improving Plots and Sharing Findings"
   ]
  },
  {
   "cell_type": "code",
   "execution_count": 85,
   "metadata": {
    "collapsed": false
   },
   "outputs": [
    {
     "data": {
      "text/plain": [
       "<matplotlib.text.Text at 0x7f4c2ec59a90>"
      ]
     },
     "execution_count": 85,
     "metadata": {},
     "output_type": "execute_result"
    },
    {
     "data": {
      "image/png": "[encoded data removed]",
      "text/plain": [
       "<matplotlib.figure.Figure at 0x7f4c2ce9d990>"
      ]
     },
     "metadata": {},
     "output_type": "display_data"
    }
   ],
   "source": [
    "######################################\n",
    "#                 14                 #\n",
    "######################################\n",
    "\n",
    "## Make a more polished version of at least one of your visualizations\n",
    "## from earlier. Try importing the seaborn library to make the visualization\n",
    "## look better, adding axis labels and a title, and changing one or more\n",
    "## arguments to the hist() function.\n",
    "import seaborn as sns\n",
    "\n",
    "plt.hist(non_passing_visits.values(), bins=8)\n",
    "plt.xlabel('Number of days')\n",
    "plt.title('Distribution of classroom visits in the first week ' + \n",
    "          'for students who do not pass the subway project')\n",
    "\n"
   ]
  },
  {
   "cell_type": "code",
   "execution_count": 86,
   "metadata": {
    "collapsed": false
   },
   "outputs": [
    {
     "data": {
      "text/plain": [
       "<matplotlib.text.Text at 0x7f4c2e8e1710>"
      ]
     },
     "execution_count": 86,
     "metadata": {},
     "output_type": "execute_result"
    },
    {
     "data": {
      "image/png": "[encoded data removed]",
      "text/plain": [
       "<matplotlib.figure.Figure at 0x7f4c2cf18790>"
      ]
     },
     "metadata": {},
     "output_type": "display_data"
    }
   ],
   "source": [
    "plt.hist(passing_visits.values(), bins=8)\n",
    "plt.xlabel('Number of days')\n",
    "plt.title('Distribution of classroom visits in the first week ' + \n",
    "          'for students who pass the subway project')"
   ]
  },
  {
   "cell_type": "code",
   "execution_count": null,
   "metadata": {
    "collapsed": true
   },
   "outputs": [],
   "source": []
  }
 ],
 "metadata": {
  "kernelspec": {
   "display_name": "Python 2",
   "language": "python",
   "name": "python2"
  },
  "language_info": {
   "codemirror_mode": {
    "name": "ipython",
    "version": 2
   },
   "file_extension": ".py",
   "mimetype": "text/x-python",
   "name": "python",
   "nbconvert_exporter": "python",
   "pygments_lexer": "ipython2",
   "version": "2.7.13"
  }
 },
 "nbformat": 4,
 "nbformat_minor": 0
}
